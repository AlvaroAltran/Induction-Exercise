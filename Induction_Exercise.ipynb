{
 "cells": [
  {
   "cell_type": "code",
   "execution_count": 61,
   "metadata": {},
   "outputs": [],
   "source": [
    "# Librerías\n",
    "import pandas as pdv\n",
    "import numpy as np\n",
    "import matplotlib.pyplot as plt\n",
    "import seaborn as sns\n",
    "from collections import Counter"
   ]
  },
  {
   "cell_type": "code",
   "execution_count": 62,
   "metadata": {},
   "outputs": [
    {
     "data": {
      "text/html": [
       "<div>\n",
       "<style scoped>\n",
       "    .dataframe tbody tr th:only-of-type {\n",
       "        vertical-align: middle;\n",
       "    }\n",
       "\n",
       "    .dataframe tbody tr th {\n",
       "        vertical-align: top;\n",
       "    }\n",
       "\n",
       "    .dataframe thead th {\n",
       "        text-align: right;\n",
       "    }\n",
       "</style>\n",
       "<table border=\"1\" class=\"dataframe\">\n",
       "  <thead>\n",
       "    <tr style=\"text-align: right;\">\n",
       "      <th></th>\n",
       "      <th>INCIDENT_NUMBER</th>\n",
       "      <th>OFFENSE_CODE</th>\n",
       "      <th>OFFENSE_CODE_GROUP</th>\n",
       "      <th>REPORTING_AREA</th>\n",
       "      <th>OCCURRED_ON_DATE</th>\n",
       "      <th>YEAR</th>\n",
       "      <th>MONTH</th>\n",
       "      <th>DAY_OF_WEEK</th>\n",
       "      <th>HOUR</th>\n",
       "      <th>UCR_PART</th>\n",
       "      <th>Location</th>\n",
       "    </tr>\n",
       "  </thead>\n",
       "  <tbody>\n",
       "    <tr>\n",
       "      <th>0</th>\n",
       "      <td>I182070304</td>\n",
       "      <td>1107</td>\n",
       "      <td>Fraud</td>\n",
       "      <td>905</td>\n",
       "      <td>01/11/2017 0:00</td>\n",
       "      <td>2017</td>\n",
       "      <td>11</td>\n",
       "      <td>Wednesday</td>\n",
       "      <td>0</td>\n",
       "      <td>Part Two</td>\n",
       "      <td>(42.33926764, -71.07208833)</td>\n",
       "    </tr>\n",
       "    <tr>\n",
       "      <th>1</th>\n",
       "      <td>I182070115</td>\n",
       "      <td>3114</td>\n",
       "      <td>Investigate Property</td>\n",
       "      <td>793</td>\n",
       "      <td>11/10/2017 17:43</td>\n",
       "      <td>2017</td>\n",
       "      <td>10</td>\n",
       "      <td>Wednesday</td>\n",
       "      <td>17</td>\n",
       "      <td>Part Three</td>\n",
       "      <td>(42.34650102, -71.13612792)</td>\n",
       "    </tr>\n",
       "    <tr>\n",
       "      <th>2</th>\n",
       "      <td>I182069920</td>\n",
       "      <td>3201</td>\n",
       "      <td>Property Lost</td>\n",
       "      <td>287</td>\n",
       "      <td>31/08/2017 12:08</td>\n",
       "      <td>2017</td>\n",
       "      <td>8</td>\n",
       "      <td>Thursday</td>\n",
       "      <td>12</td>\n",
       "      <td>Part Three</td>\n",
       "      <td>(42.33192532, -71.08411222)</td>\n",
       "    </tr>\n",
       "    <tr>\n",
       "      <th>3</th>\n",
       "      <td>I182069657</td>\n",
       "      <td>1102</td>\n",
       "      <td>Fraud</td>\n",
       "      <td>774</td>\n",
       "      <td>27/06/2017 7:00</td>\n",
       "      <td>2017</td>\n",
       "      <td>6</td>\n",
       "      <td>Tuesday</td>\n",
       "      <td>7</td>\n",
       "      <td>Part Two</td>\n",
       "      <td>(42.33848236, -71.15288978)</td>\n",
       "    </tr>\n",
       "    <tr>\n",
       "      <th>4</th>\n",
       "      <td>I182069334</td>\n",
       "      <td>3201</td>\n",
       "      <td>Property Lost</td>\n",
       "      <td>420</td>\n",
       "      <td>08/12/2017 22:00</td>\n",
       "      <td>2017</td>\n",
       "      <td>12</td>\n",
       "      <td>Friday</td>\n",
       "      <td>22</td>\n",
       "      <td>Part Three</td>\n",
       "      <td>(42.27959103, -71.08132258)</td>\n",
       "    </tr>\n",
       "  </tbody>\n",
       "</table>\n",
       "</div>"
      ],
      "text/plain": [
       "  INCIDENT_NUMBER  OFFENSE_CODE    OFFENSE_CODE_GROUP REPORTING_AREA  \\\n",
       "0      I182070304          1107                 Fraud            905   \n",
       "1      I182070115          3114  Investigate Property            793   \n",
       "2      I182069920          3201         Property Lost            287   \n",
       "3      I182069657          1102                 Fraud            774   \n",
       "4      I182069334          3201         Property Lost            420   \n",
       "\n",
       "   OCCURRED_ON_DATE  YEAR  MONTH DAY_OF_WEEK  HOUR    UCR_PART  \\\n",
       "0   01/11/2017 0:00  2017     11   Wednesday     0    Part Two   \n",
       "1  11/10/2017 17:43  2017     10   Wednesday    17  Part Three   \n",
       "2  31/08/2017 12:08  2017      8    Thursday    12  Part Three   \n",
       "3   27/06/2017 7:00  2017      6     Tuesday     7    Part Two   \n",
       "4  08/12/2017 22:00  2017     12      Friday    22  Part Three   \n",
       "\n",
       "                      Location  \n",
       "0  (42.33926764, -71.07208833)  \n",
       "1  (42.34650102, -71.13612792)  \n",
       "2  (42.33192532, -71.08411222)  \n",
       "3  (42.33848236, -71.15288978)  \n",
       "4  (42.27959103, -71.08132258)  "
      ]
     },
     "execution_count": 62,
     "metadata": {},
     "output_type": "execute_result"
    }
   ],
   "source": [
    "# Carga de datos\n",
    "crimes=pd.read_csv('./crimes_dataset.csv',sep=';')\n",
    "crimes.head(5)"
   ]
  },
  {
   "cell_type": "code",
   "execution_count": 63,
   "metadata": {},
   "outputs": [
    {
     "data": {
      "text/plain": [
       "200000"
      ]
     },
     "execution_count": 63,
     "metadata": {},
     "output_type": "execute_result"
    }
   ],
   "source": [
    "# Análisis descriptivo\n",
    "\n",
    "# Número de observaciones\n",
    "sum(Counter(crimes.OFFENSE_CODE_GROUP).values())"
   ]
  },
  {
   "cell_type": "code",
   "execution_count": 64,
   "metadata": {},
   "outputs": [
    {
     "name": "stdout",
     "output_type": "stream",
     "text": [
      "INCIDENT_NUMBER       object\n",
      "OFFENSE_CODE           int64\n",
      "OFFENSE_CODE_GROUP    object\n",
      "REPORTING_AREA        object\n",
      "OCCURRED_ON_DATE      object\n",
      "YEAR                   int64\n",
      "MONTH                  int64\n",
      "DAY_OF_WEEK           object\n",
      "HOUR                   int64\n",
      "UCR_PART              object\n",
      "Location              object\n",
      "dtype: object\n"
     ]
    }
   ],
   "source": [
    "# Tipos de variables\n",
    "print(crimes.dtypes)"
   ]
  },
  {
   "cell_type": "code",
   "execution_count": 65,
   "metadata": {},
   "outputs": [
    {
     "data": {
      "text/html": [
       "<div>\n",
       "<style scoped>\n",
       "    .dataframe tbody tr th:only-of-type {\n",
       "        vertical-align: middle;\n",
       "    }\n",
       "\n",
       "    .dataframe tbody tr th {\n",
       "        vertical-align: top;\n",
       "    }\n",
       "\n",
       "    .dataframe thead th {\n",
       "        text-align: right;\n",
       "    }\n",
       "</style>\n",
       "<table border=\"1\" class=\"dataframe\">\n",
       "  <thead>\n",
       "    <tr style=\"text-align: right;\">\n",
       "      <th></th>\n",
       "      <th>YEAR</th>\n",
       "      <th>MONTH</th>\n",
       "      <th>HOUR</th>\n",
       "    </tr>\n",
       "  </thead>\n",
       "  <tbody>\n",
       "    <tr>\n",
       "      <th>count</th>\n",
       "      <td>200000.000000</td>\n",
       "      <td>200000.000000</td>\n",
       "      <td>200000.000000</td>\n",
       "    </tr>\n",
       "    <tr>\n",
       "      <th>mean</th>\n",
       "      <td>2016.504430</td>\n",
       "      <td>6.557570</td>\n",
       "      <td>13.151550</td>\n",
       "    </tr>\n",
       "    <tr>\n",
       "      <th>std</th>\n",
       "      <td>0.499982</td>\n",
       "      <td>3.375336</td>\n",
       "      <td>6.283656</td>\n",
       "    </tr>\n",
       "    <tr>\n",
       "      <th>min</th>\n",
       "      <td>2016.000000</td>\n",
       "      <td>1.000000</td>\n",
       "      <td>0.000000</td>\n",
       "    </tr>\n",
       "    <tr>\n",
       "      <th>25%</th>\n",
       "      <td>2016.000000</td>\n",
       "      <td>4.000000</td>\n",
       "      <td>9.000000</td>\n",
       "    </tr>\n",
       "    <tr>\n",
       "      <th>50%</th>\n",
       "      <td>2017.000000</td>\n",
       "      <td>7.000000</td>\n",
       "      <td>14.000000</td>\n",
       "    </tr>\n",
       "    <tr>\n",
       "      <th>75%</th>\n",
       "      <td>2017.000000</td>\n",
       "      <td>9.000000</td>\n",
       "      <td>18.000000</td>\n",
       "    </tr>\n",
       "    <tr>\n",
       "      <th>max</th>\n",
       "      <td>2017.000000</td>\n",
       "      <td>12.000000</td>\n",
       "      <td>23.000000</td>\n",
       "    </tr>\n",
       "  </tbody>\n",
       "</table>\n",
       "</div>"
      ],
      "text/plain": [
       "                YEAR          MONTH           HOUR\n",
       "count  200000.000000  200000.000000  200000.000000\n",
       "mean     2016.504430       6.557570      13.151550\n",
       "std         0.499982       3.375336       6.283656\n",
       "min      2016.000000       1.000000       0.000000\n",
       "25%      2016.000000       4.000000       9.000000\n",
       "50%      2017.000000       7.000000      14.000000\n",
       "75%      2017.000000       9.000000      18.000000\n",
       "max      2017.000000      12.000000      23.000000"
      ]
     },
     "execution_count": 65,
     "metadata": {},
     "output_type": "execute_result"
    }
   ],
   "source": [
    "# Análisis descriptivo de las variables continuas\n",
    "crimes[['YEAR', 'MONTH', 'HOUR']].describe()"
   ]
  },
  {
   "cell_type": "code",
   "execution_count": 66,
   "metadata": {},
   "outputs": [
    {
     "name": "stdout",
     "output_type": "stream",
     "text": [
      "Motor Vehicle Accident Response              23583\n",
      "Larceny                                      15709\n",
      "Medical Assistance                           14795\n",
      "Investigate Person                           12421\n",
      "Other                                        10861\n",
      "                                             ...  \n",
      "Gambling                                         6\n",
      "INVESTIGATE PERSON                               3\n",
      "HUMAN TRAFFICKING - INVOLUNTARY SERVITUDE        2\n",
      "Biological Threat                                2\n",
      "Burglary - No Property Taken                     1\n",
      "Name: OFFENSE_CODE_GROUP, Length: 67, dtype: int64\n",
      "       13942\n",
      "111     1367\n",
      "117     1187\n",
      "186     1177\n",
      "329     1144\n",
      "       ...  \n",
      "669        5\n",
      "386        5\n",
      "190        4\n",
      "745        2\n",
      "665        2\n",
      "Name: REPORTING_AREA, Length: 878, dtype: int64\n",
      "01/06/2017 0:00     29\n",
      "01/08/2016 0:00     27\n",
      "01/08/2017 0:00     22\n",
      "01/01/2017 0:00     21\n",
      "01/05/2017 0:00     20\n",
      "                    ..\n",
      "27/04/2017 9:49      1\n",
      "25/10/2017 20:28     1\n",
      "07/11/2017 8:37      1\n",
      "06/07/2016 8:50      1\n",
      "22/06/2016 14:41     1\n",
      "Name: OCCURRED_ON_DATE, Length: 146598, dtype: int64\n",
      "Friday       30522\n",
      "Wednesday    29217\n",
      "Thursday     29192\n",
      "Tuesday      28921\n",
      "Monday       28348\n",
      "Saturday     28209\n",
      "Sunday       25591\n",
      "Name: DAY_OF_WEEK, dtype: int64\n",
      "Part Three    101291\n",
      "Part Two       60292\n",
      "Part One       37538\n",
      "Other            806\n",
      "Name: UCR_PART, dtype: int64\n"
     ]
    }
   ],
   "source": [
    "# Volumetría de las variables categóricas\n",
    "for i in ['OFFENSE_CODE_GROUP', 'REPORTING_AREA', 'OCCURRED_ON_DATE','DAY_OF_WEEK','UCR_PART']:\n",
    "    print(crimes[i].value_counts())"
   ]
  },
  {
   "cell_type": "code",
   "execution_count": null,
   "metadata": {},
   "outputs": [],
   "source": [
    "# Gráfico de las variables continuas\n"
   ]
  },
  {
   "cell_type": "code",
   "execution_count": 67,
   "metadata": {},
   "outputs": [
    {
     "name": "stdout",
     "output_type": "stream",
     "text": [
      "OFFENSE_CODE 207\n",
      "OFFENSE_CODE_GROUP 67\n",
      "REPORTING_AREA 878\n",
      "OCCURRED_ON_DATE 146598\n",
      "DAY_OF_WEEK 7\n",
      "UCR_PART 5\n"
     ]
    }
   ],
   "source": [
    "# Número de categorías en cada variable categórica\n",
    "for i in ['OFFENSE_CODE','OFFENSE_CODE_GROUP', 'REPORTING_AREA', 'OCCURRED_ON_DATE','DAY_OF_WEEK','UCR_PART']:\n",
    "    print(i,len(set(crimes[i])))"
   ]
  },
  {
   "cell_type": "code",
   "execution_count": 68,
   "metadata": {},
   "outputs": [
    {
     "data": {
      "text/plain": [
       "Motor Vehicle Accident Response              23583\n",
       "Larceny                                      15709\n",
       "Medical Assistance                           14795\n",
       "Investigate Person                           12421\n",
       "Other                                        10861\n",
       "                                             ...  \n",
       "Gambling                                         6\n",
       "INVESTIGATE PERSON                               3\n",
       "HUMAN TRAFFICKING - INVOLUNTARY SERVITUDE        2\n",
       "Biological Threat                                2\n",
       "Burglary - No Property Taken                     1\n",
       "Name: OFFENSE_CODE_GROUP, Length: 67, dtype: int64"
      ]
     },
     "execution_count": 68,
     "metadata": {},
     "output_type": "execute_result"
    }
   ],
   "source": [
    "# Volumen de observaciones en cada categoría de OFFENSE_CODE_GROUP\n",
    "crimes['OFFENSE_CODE_GROUP'].value_counts()"
   ]
  },
  {
   "cell_type": "code",
   "execution_count": 69,
   "metadata": {},
   "outputs": [
    {
     "data": {
      "text/plain": [
       "<seaborn.axisgrid.FacetGrid at 0x7f00399bfcd0>"
      ]
     },
     "execution_count": 69,
     "metadata": {},
     "output_type": "execute_result"
    },
    {
     "data": {
      "image/png": "[encoded data removed]",
      "text/plain": [
       "<Figure size 360x360 with 1 Axes>"
      ]
     },
     "metadata": {
      "needs_background": "light"
     },
     "output_type": "display_data"
    }
   ],
   "source": [
    "# Distribución de delitos a lo largo del día\n",
    "sns.catplot(x=\"HOUR\", kind=\"count\", data=crimes)"
   ]
  },
  {
   "cell_type": "code",
   "execution_count": 70,
   "metadata": {},
   "outputs": [
    {
     "data": {
      "text/plain": [
       "<seaborn.axisgrid.FacetGrid at 0x7f003993c390>"
      ]
     },
     "execution_count": 70,
     "metadata": {},
     "output_type": "execute_result"
    },
    {
     "data": {
      "image/png": "[encoded data removed]",
      "text/plain": [
       "<Figure size 360x360 with 1 Axes>"
      ]
     },
     "metadata": {
      "needs_background": "light"
     },
     "output_type": "display_data"
    }
   ],
   "source": [
    "# Distribución de delitos a lo largo de la semana\n",
    "sns.catplot(x=\"DAY_OF_WEEK\", kind=\"count\", data=crimes)"
   ]
  },
  {
   "cell_type": "code",
   "execution_count": 71,
   "metadata": {},
   "outputs": [
    {
     "data": {
      "text/plain": [
       "<seaborn.axisgrid.FacetGrid at 0x7f0039910610>"
      ]
     },
     "execution_count": 71,
     "metadata": {},
     "output_type": "execute_result"
    },
    {
     "data": {
      "image/png": "[encoded data removed]",
      "text/plain": [
       "<Figure size 360x360 with 1 Axes>"
      ]
     },
     "metadata": {
      "needs_background": "light"
     },
     "output_type": "display_data"
    }
   ],
   "source": [
    "# Distribución de delitos a lo largo del año\n",
    "sns.catplot(x=\"MONTH\", kind=\"count\", data=crimes)"
   ]
  },
  {
   "cell_type": "code",
   "execution_count": 73,
   "metadata": {},
   "outputs": [
    {
     "data": {
      "text/plain": [
       "count                              200000\n",
       "unique                                 67\n",
       "top       Motor Vehicle Accident Response\n",
       "freq                                23583\n",
       "Name: OFFENSE_CODE_GROUP, dtype: object"
      ]
     },
     "execution_count": 73,
     "metadata": {},
     "output_type": "execute_result"
    }
   ],
   "source": [
    "s=pd.Series(crimes.OFFENSE_CODE_GROUP)\n",
    "s.describe()"
   ]
  },
  {
   "cell_type": "code",
   "execution_count": 78,
   "metadata": {},
   "outputs": [
    {
     "data": {
      "text/plain": [
       "OFFENSE_CODE_GROUP\n",
       "Aggravated Assault                  4769\n",
       "Aircraft                              26\n",
       "Arson                                 66\n",
       "Assembly or Gathering Violations     576\n",
       "Auto Theft                          2930\n",
       "                                    ... \n",
       "Towed                               7174\n",
       "Vandalism                           9900\n",
       "Verbal Disputes                     8535\n",
       "Violations                          3537\n",
       "Warrant Arrests                     5935\n",
       "Length: 67, dtype: int64"
      ]
     },
     "execution_count": 78,
     "metadata": {},
     "output_type": "execute_result"
    }
   ],
   "source": [
    "crimes.groupby(['OFFENSE_CODE_GROUP']).size()"
   ]
  },
  {
   "cell_type": "code",
   "execution_count": 81,
   "metadata": {},
   "outputs": [
    {
     "data": {
      "text/plain": [
       "dict_values([3547, 7326, 5974, 10861, 1968, 15709, 2930, 3309, 3537, 2840, 951, 6707, 1287, 12421, 897, 192, 23583, 9636, 5935, 49, 9900, 2457, 343, 4769, 2403, 2882, 1054, 581, 3193, 572, 1677, 683, 14795, 1086, 7174, 170, 8535, 636, 1202, 642, 244, 355, 325, 10043, 268, 1040, 863, 640, 2, 154, 400, 149, 101, 576, 8, 66, 63, 157, 61, 13, 26, 6, 3, 14, 7, 2, 1])"
      ]
     },
     "execution_count": 81,
     "metadata": {},
     "output_type": "execute_result"
    }
   ],
   "source": [
    "# SUCIO\n",
    "\n",
    "# Número de categorías\n",
    "crimes['OFFENSE_CODE_GROUP'].value_counts().count()\n",
    "\n",
    "# Distintas categorías\n",
    "crimes['OFFENSE_CODE_GROUP'].unique()\n",
    "\n",
    "from collections import Counter\n",
    "Counter(crimes.OFFENSE_CODE_GROUP).keys()\n",
    "\n",
    "OFFENSE = Counter(crimes.OFFENSE_CODE_GROUP).keys()\n",
    "sorted(OFFENSE)\n",
    "\n",
    "# Distintos valores de cada categoría\n",
    "Counter(crimes.OFFENSE_CODE_GROUP).values()"
   ]
  },
  {
   "cell_type": "code",
   "execution_count": null,
   "metadata": {},
   "outputs": [],
   "source": [
    "# Recategorizar categorías\n"
   ]
  },
  {
   "cell_type": "code",
   "execution_count": 83,
   "metadata": {},
   "outputs": [
    {
     "data": {
      "text/html": [
       "<div>\n",
       "<style scoped>\n",
       "    .dataframe tbody tr th:only-of-type {\n",
       "        vertical-align: middle;\n",
       "    }\n",
       "\n",
       "    .dataframe tbody tr th {\n",
       "        vertical-align: top;\n",
       "    }\n",
       "\n",
       "    .dataframe thead th {\n",
       "        text-align: right;\n",
       "    }\n",
       "</style>\n",
       "<table border=\"1\" class=\"dataframe\">\n",
       "  <thead>\n",
       "    <tr style=\"text-align: right;\">\n",
       "      <th></th>\n",
       "      <th>OFFENSE_CODE_GROUP</th>\n",
       "      <th>MONTH</th>\n",
       "    </tr>\n",
       "  </thead>\n",
       "  <tbody>\n",
       "    <tr>\n",
       "      <th>0</th>\n",
       "      <td>Fraud</td>\n",
       "      <td>11</td>\n",
       "    </tr>\n",
       "    <tr>\n",
       "      <th>1</th>\n",
       "      <td>Investigate Property</td>\n",
       "      <td>10</td>\n",
       "    </tr>\n",
       "    <tr>\n",
       "      <th>2</th>\n",
       "      <td>Property Lost</td>\n",
       "      <td>8</td>\n",
       "    </tr>\n",
       "    <tr>\n",
       "      <th>3</th>\n",
       "      <td>Fraud</td>\n",
       "      <td>6</td>\n",
       "    </tr>\n",
       "    <tr>\n",
       "      <th>4</th>\n",
       "      <td>Property Lost</td>\n",
       "      <td>12</td>\n",
       "    </tr>\n",
       "    <tr>\n",
       "      <th>5</th>\n",
       "      <td>Fraud</td>\n",
       "      <td>1</td>\n",
       "    </tr>\n",
       "    <tr>\n",
       "      <th>6</th>\n",
       "      <td>Property Lost</td>\n",
       "      <td>1</td>\n",
       "    </tr>\n",
       "    <tr>\n",
       "      <th>7</th>\n",
       "      <td>Investigate Property</td>\n",
       "      <td>11</td>\n",
       "    </tr>\n",
       "    <tr>\n",
       "      <th>8</th>\n",
       "      <td>Other</td>\n",
       "      <td>9</td>\n",
       "    </tr>\n",
       "    <tr>\n",
       "      <th>9</th>\n",
       "      <td>Confidence Games</td>\n",
       "      <td>10</td>\n",
       "    </tr>\n",
       "  </tbody>\n",
       "</table>\n",
       "</div>"
      ],
      "text/plain": [
       "     OFFENSE_CODE_GROUP  MONTH\n",
       "0                 Fraud     11\n",
       "1  Investigate Property     10\n",
       "2         Property Lost      8\n",
       "3                 Fraud      6\n",
       "4         Property Lost     12\n",
       "5                 Fraud      1\n",
       "6         Property Lost      1\n",
       "7  Investigate Property     11\n",
       "8                 Other      9\n",
       "9      Confidence Games     10"
      ]
     },
     "execution_count": 83,
     "metadata": {},
     "output_type": "execute_result"
    }
   ],
   "source": [
    "# Argupación de variables\n",
    "# Buscar estacionalidad\n",
    "crimes_group_one = crimes[['OFFENSE_CODE_GROUP','MONTH']]\n",
    "crimes_group_one.head(10)"
   ]
  },
  {
   "cell_type": "code",
   "execution_count": 84,
   "metadata": {},
   "outputs": [
    {
     "data": {
      "text/html": [
       "<div>\n",
       "<style scoped>\n",
       "    .dataframe tbody tr th:only-of-type {\n",
       "        vertical-align: middle;\n",
       "    }\n",
       "\n",
       "    .dataframe tbody tr th {\n",
       "        vertical-align: top;\n",
       "    }\n",
       "\n",
       "    .dataframe thead th {\n",
       "        text-align: right;\n",
       "    }\n",
       "</style>\n",
       "<table border=\"1\" class=\"dataframe\">\n",
       "  <thead>\n",
       "    <tr style=\"text-align: right;\">\n",
       "      <th></th>\n",
       "      <th>OFFENSE_CODE_GROUP</th>\n",
       "      <th>MONTH</th>\n",
       "    </tr>\n",
       "  </thead>\n",
       "  <tbody>\n",
       "    <tr>\n",
       "      <th>0</th>\n",
       "      <td>Aggravated Assault</td>\n",
       "      <td>6.605158</td>\n",
       "    </tr>\n",
       "    <tr>\n",
       "      <th>1</th>\n",
       "      <td>Aircraft</td>\n",
       "      <td>5.884615</td>\n",
       "    </tr>\n",
       "    <tr>\n",
       "      <th>2</th>\n",
       "      <td>Arson</td>\n",
       "      <td>6.651515</td>\n",
       "    </tr>\n",
       "    <tr>\n",
       "      <th>3</th>\n",
       "      <td>Assembly or Gathering Violations</td>\n",
       "      <td>6.500000</td>\n",
       "    </tr>\n",
       "    <tr>\n",
       "      <th>4</th>\n",
       "      <td>Auto Theft</td>\n",
       "      <td>6.684300</td>\n",
       "    </tr>\n",
       "    <tr>\n",
       "      <th>...</th>\n",
       "      <td>...</td>\n",
       "      <td>...</td>\n",
       "    </tr>\n",
       "    <tr>\n",
       "      <th>62</th>\n",
       "      <td>Towed</td>\n",
       "      <td>6.686646</td>\n",
       "    </tr>\n",
       "    <tr>\n",
       "      <th>63</th>\n",
       "      <td>Vandalism</td>\n",
       "      <td>6.427071</td>\n",
       "    </tr>\n",
       "    <tr>\n",
       "      <th>64</th>\n",
       "      <td>Verbal Disputes</td>\n",
       "      <td>6.518219</td>\n",
       "    </tr>\n",
       "    <tr>\n",
       "      <th>65</th>\n",
       "      <td>Violations</td>\n",
       "      <td>6.292338</td>\n",
       "    </tr>\n",
       "    <tr>\n",
       "      <th>66</th>\n",
       "      <td>Warrant Arrests</td>\n",
       "      <td>6.603875</td>\n",
       "    </tr>\n",
       "  </tbody>\n",
       "</table>\n",
       "<p>67 rows × 2 columns</p>\n",
       "</div>"
      ],
      "text/plain": [
       "                  OFFENSE_CODE_GROUP     MONTH\n",
       "0                 Aggravated Assault  6.605158\n",
       "1                           Aircraft  5.884615\n",
       "2                              Arson  6.651515\n",
       "3   Assembly or Gathering Violations  6.500000\n",
       "4                         Auto Theft  6.684300\n",
       "..                               ...       ...\n",
       "62                             Towed  6.686646\n",
       "63                         Vandalism  6.427071\n",
       "64                   Verbal Disputes  6.518219\n",
       "65                        Violations  6.292338\n",
       "66                   Warrant Arrests  6.603875\n",
       "\n",
       "[67 rows x 2 columns]"
      ]
     },
     "execution_count": 84,
     "metadata": {},
     "output_type": "execute_result"
    }
   ],
   "source": [
    "crimes_group_one = crimes_group_one.groupby(['OFFENSE_CODE_GROUP'],as_index=False).mean()\n",
    "crimes_group_one"
   ]
  },
  {
   "cell_type": "code",
   "execution_count": null,
   "metadata": {},
   "outputs": [],
   "source": [
    "# Representación de coordenadas"
   ]
  }
 ],
 "metadata": {
  "instance_type": "ml.t3.medium",
  "kernelspec": {
   "display_name": "Python 3 (Data Science)",
   "language": "python",
   "name": "python3__SAGEMAKER_INTERNAL__arn:aws:sagemaker:eu-west-1:470317259841:image/datascience-1.0"
  },
  "language_info": {
   "codemirror_mode": {
    "name": "ipython",
    "version": 3
   },
   "file_extension": ".py",
   "mimetype": "text/x-python",
   "name": "python",
   "nbconvert_exporter": "python",
   "pygments_lexer": "ipython3",
   "version": "3.7.10"
  }
 },
 "nbformat": 4,
 "nbformat_minor": 4
}
