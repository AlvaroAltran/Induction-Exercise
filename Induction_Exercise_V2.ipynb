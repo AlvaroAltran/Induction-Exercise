{
 "cells": [
  {
   "cell_type": "code",
   "execution_count": 347,
   "metadata": {},
   "outputs": [],
   "source": [
    "# Librerías\n",
    "import collections\n",
    "import matplotlib.pyplot\n",
    "import numpy\n",
    "import pandas\n",
    "import seaborn"
   ]
  },
  {
   "cell_type": "code",
   "execution_count": 385,
   "metadata": {},
   "outputs": [
    {
     "data": {
      "text/html": [
       "<div>\n",
       "<style scoped>\n",
       "    .dataframe tbody tr th:only-of-type {\n",
       "        vertical-align: middle;\n",
       "    }\n",
       "\n",
       "    .dataframe tbody tr th {\n",
       "        vertical-align: top;\n",
       "    }\n",
       "\n",
       "    .dataframe thead th {\n",
       "        text-align: right;\n",
       "    }\n",
       "</style>\n",
       "<table border=\"1\" class=\"dataframe\">\n",
       "  <thead>\n",
       "    <tr style=\"text-align: right;\">\n",
       "      <th></th>\n",
       "      <th>INCIDENT_NUMBER</th>\n",
       "      <th>OFFENSE_CODE</th>\n",
       "      <th>OFFENSE_CODE_GROUP</th>\n",
       "      <th>REPORTING_AREA</th>\n",
       "      <th>OCCURRED_ON_DATE</th>\n",
       "      <th>YEAR</th>\n",
       "      <th>MONTH</th>\n",
       "      <th>DAY_OF_WEEK</th>\n",
       "      <th>HOUR</th>\n",
       "      <th>UCR_PART</th>\n",
       "      <th>Location</th>\n",
       "    </tr>\n",
       "  </thead>\n",
       "  <tbody>\n",
       "    <tr>\n",
       "      <th>0</th>\n",
       "      <td>I182070304</td>\n",
       "      <td>1107</td>\n",
       "      <td>Fraud</td>\n",
       "      <td>905</td>\n",
       "      <td>01/11/2017 0:00</td>\n",
       "      <td>2017</td>\n",
       "      <td>11</td>\n",
       "      <td>Wednesday</td>\n",
       "      <td>0</td>\n",
       "      <td>Part Two</td>\n",
       "      <td>(42.33926764, -71.07208833)</td>\n",
       "    </tr>\n",
       "    <tr>\n",
       "      <th>1</th>\n",
       "      <td>I182070115</td>\n",
       "      <td>3114</td>\n",
       "      <td>Investigate Property</td>\n",
       "      <td>793</td>\n",
       "      <td>11/10/2017 17:43</td>\n",
       "      <td>2017</td>\n",
       "      <td>10</td>\n",
       "      <td>Wednesday</td>\n",
       "      <td>17</td>\n",
       "      <td>Part Three</td>\n",
       "      <td>(42.34650102, -71.13612792)</td>\n",
       "    </tr>\n",
       "    <tr>\n",
       "      <th>2</th>\n",
       "      <td>I182069920</td>\n",
       "      <td>3201</td>\n",
       "      <td>Property Lost</td>\n",
       "      <td>287</td>\n",
       "      <td>31/08/2017 12:08</td>\n",
       "      <td>2017</td>\n",
       "      <td>8</td>\n",
       "      <td>Thursday</td>\n",
       "      <td>12</td>\n",
       "      <td>Part Three</td>\n",
       "      <td>(42.33192532, -71.08411222)</td>\n",
       "    </tr>\n",
       "    <tr>\n",
       "      <th>3</th>\n",
       "      <td>I182069657</td>\n",
       "      <td>1102</td>\n",
       "      <td>Fraud</td>\n",
       "      <td>774</td>\n",
       "      <td>27/06/2017 7:00</td>\n",
       "      <td>2017</td>\n",
       "      <td>6</td>\n",
       "      <td>Tuesday</td>\n",
       "      <td>7</td>\n",
       "      <td>Part Two</td>\n",
       "      <td>(42.33848236, -71.15288978)</td>\n",
       "    </tr>\n",
       "    <tr>\n",
       "      <th>4</th>\n",
       "      <td>I182069334</td>\n",
       "      <td>3201</td>\n",
       "      <td>Property Lost</td>\n",
       "      <td>420</td>\n",
       "      <td>08/12/2017 22:00</td>\n",
       "      <td>2017</td>\n",
       "      <td>12</td>\n",
       "      <td>Friday</td>\n",
       "      <td>22</td>\n",
       "      <td>Part Three</td>\n",
       "      <td>(42.27959103, -71.08132258)</td>\n",
       "    </tr>\n",
       "  </tbody>\n",
       "</table>\n",
       "</div>"
      ],
      "text/plain": [
       "  INCIDENT_NUMBER  OFFENSE_CODE    OFFENSE_CODE_GROUP REPORTING_AREA  \\\n",
       "0      I182070304          1107                 Fraud            905   \n",
       "1      I182070115          3114  Investigate Property            793   \n",
       "2      I182069920          3201         Property Lost            287   \n",
       "3      I182069657          1102                 Fraud            774   \n",
       "4      I182069334          3201         Property Lost            420   \n",
       "\n",
       "   OCCURRED_ON_DATE  YEAR  MONTH DAY_OF_WEEK  HOUR    UCR_PART  \\\n",
       "0   01/11/2017 0:00  2017     11   Wednesday     0    Part Two   \n",
       "1  11/10/2017 17:43  2017     10   Wednesday    17  Part Three   \n",
       "2  31/08/2017 12:08  2017      8    Thursday    12  Part Three   \n",
       "3   27/06/2017 7:00  2017      6     Tuesday     7    Part Two   \n",
       "4  08/12/2017 22:00  2017     12      Friday    22  Part Three   \n",
       "\n",
       "                      Location  \n",
       "0  (42.33926764, -71.07208833)  \n",
       "1  (42.34650102, -71.13612792)  \n",
       "2  (42.33192532, -71.08411222)  \n",
       "3  (42.33848236, -71.15288978)  \n",
       "4  (42.27959103, -71.08132258)  "
      ]
     },
     "execution_count": 385,
     "metadata": {},
     "output_type": "execute_result"
    }
   ],
   "source": [
    "# Carga de datos\n",
    "CRIMES=pandas.read_csv('./Induction_Exercise/crimes_dataset.csv',sep=';')\n",
    "CRIMES.head(5)"
   ]
  },
  {
   "cell_type": "code",
   "execution_count": 349,
   "metadata": {},
   "outputs": [
    {
     "data": {
      "text/plain": [
       "200000"
      ]
     },
     "execution_count": 349,
     "metadata": {},
     "output_type": "execute_result"
    }
   ],
   "source": [
    "# ANÁLISIS DESCRIPTIVO\n",
    "\n",
    "# Número de observaciones\n",
    "len(CRIMES)"
   ]
  },
  {
   "cell_type": "code",
   "execution_count": 350,
   "metadata": {},
   "outputs": [
    {
     "name": "stdout",
     "output_type": "stream",
     "text": [
      "DAY_OF_WEEK 0\n",
      "HOUR 0\n",
      "INCIDENT_NUMBER 0\n",
      "Location 0\n",
      "MONTH 0\n",
      "OCCURRED_ON_DATE 0\n",
      "OFFENSE_CODE 0\n",
      "OFFENSE_CODE_GROUP 0\n",
      "REPORTING_AREA 0\n",
      "UCR_PART 73\n",
      "YEAR 0\n"
     ]
    },
    {
     "data": {
      "text/html": [
       "<div>\n",
       "<style scoped>\n",
       "    .dataframe tbody tr th:only-of-type {\n",
       "        vertical-align: middle;\n",
       "    }\n",
       "\n",
       "    .dataframe tbody tr th {\n",
       "        vertical-align: top;\n",
       "    }\n",
       "\n",
       "    .dataframe thead th {\n",
       "        text-align: right;\n",
       "    }\n",
       "</style>\n",
       "<table border=\"1\" class=\"dataframe\">\n",
       "  <thead>\n",
       "    <tr style=\"text-align: right;\">\n",
       "      <th></th>\n",
       "      <th>OFFENSE_CODE_GROUP</th>\n",
       "      <th>REPORTING_AREA</th>\n",
       "      <th>OCCURRED_ON_DATE</th>\n",
       "      <th>DAY_OF_WEEK</th>\n",
       "    </tr>\n",
       "  </thead>\n",
       "  <tbody>\n",
       "    <tr>\n",
       "      <th>count</th>\n",
       "      <td>73</td>\n",
       "      <td>73</td>\n",
       "      <td>73</td>\n",
       "      <td>73</td>\n",
       "    </tr>\n",
       "    <tr>\n",
       "      <th>unique</th>\n",
       "      <td>4</td>\n",
       "      <td>67</td>\n",
       "      <td>73</td>\n",
       "      <td>7</td>\n",
       "    </tr>\n",
       "    <tr>\n",
       "      <th>top</th>\n",
       "      <td>HOME INVASION</td>\n",
       "      <td>519</td>\n",
       "      <td>04/01/2017 12:58</td>\n",
       "      <td>Sunday</td>\n",
       "    </tr>\n",
       "    <tr>\n",
       "      <th>freq</th>\n",
       "      <td>61</td>\n",
       "      <td>2</td>\n",
       "      <td>1</td>\n",
       "      <td>14</td>\n",
       "    </tr>\n",
       "  </tbody>\n",
       "</table>\n",
       "</div>"
      ],
      "text/plain": [
       "       OFFENSE_CODE_GROUP REPORTING_AREA  OCCURRED_ON_DATE DAY_OF_WEEK\n",
       "count                  73             73                73          73\n",
       "unique                  4             67                73           7\n",
       "top         HOME INVASION            519  04/01/2017 12:58      Sunday\n",
       "freq                   61              2                 1          14"
      ]
     },
     "execution_count": 350,
     "metadata": {},
     "output_type": "execute_result"
    }
   ],
   "source": [
    "# Comprobación de valores nulos\n",
    "for i in sorted(CRIMES):\n",
    "    print(i,sum(pandas.isna(CRIMES[i])))\n",
    "# Únicamente UCR_PART tiene valores nulos (73)\n",
    "\n",
    "# Creación de un dataset alternativo únicamente con las observaciones que tiene valores nulos para \"UCR_PART\"\n",
    "NAN_CRIMES=CRIMES[pandas.isna(CRIMES[\"UCR_PART\"])]\n",
    "NAN_CRIMES[['OFFENSE_CODE_GROUP', 'REPORTING_AREA', 'OCCURRED_ON_DATE','DAY_OF_WEEK']].describe()"
   ]
  },
  {
   "cell_type": "code",
   "execution_count": 351,
   "metadata": {},
   "outputs": [
    {
     "name": "stdout",
     "output_type": "stream",
     "text": [
      "OFFENSE_CODE 207\n",
      "OFFENSE_CODE_GROUP 67\n",
      "REPORTING_AREA 878\n",
      "OCCURRED_ON_DATE 146598\n",
      "DAY_OF_WEEK 7\n",
      "UCR_PART 5\n"
     ]
    },
    {
     "data": {
      "text/plain": [
       "Motor Vehicle Accident Response              23583\n",
       "Larceny                                      15709\n",
       "Medical Assistance                           14795\n",
       "Investigate Person                           12421\n",
       "Other                                        10861\n",
       "                                             ...  \n",
       "Gambling                                         6\n",
       "INVESTIGATE PERSON                               3\n",
       "HUMAN TRAFFICKING - INVOLUNTARY SERVITUDE        2\n",
       "Biological Threat                                2\n",
       "Burglary - No Property Taken                     1\n",
       "Name: OFFENSE_CODE_GROUP, Length: 67, dtype: int64"
      ]
     },
     "execution_count": 351,
     "metadata": {},
     "output_type": "execute_result"
    }
   ],
   "source": [
    "# ANÁLISIS DESCRIPTIVO DE LAS VARIABLES CONTINUAS (no continuas, sólo numéricas en realidad)\n",
    "CRIMES[['YEAR', 'MONTH', 'HOUR']].describe()\n",
    "\n",
    "\n",
    "# ANÁLISIS DESCRIPTIVO DE LAS VARIABLES CATEGÓRICAS\n",
    "CRIMES[['OFFENSE_CODE_GROUP', 'REPORTING_AREA', 'OCCURRED_ON_DATE','DAY_OF_WEEK','UCR_PART']].describe()\n",
    "\n",
    "# Número de categorías en cada variable categórica\n",
    "for i in ['OFFENSE_CODE','OFFENSE_CODE_GROUP', 'REPORTING_AREA', 'OCCURRED_ON_DATE','DAY_OF_WEEK','UCR_PART']:\n",
    "    print(i,len(set(CRIMES[i])))\n",
    "# UCR_PART cuenta como categoría los nan\n",
    "\n",
    "# Volumen de observaciones en cada categoría de OFFENSE_CODE_GROUP\n",
    "CRIMES['OFFENSE_CODE_GROUP'].value_counts()"
   ]
  },
  {
   "cell_type": "code",
   "execution_count": 352,
   "metadata": {},
   "outputs": [
    {
     "data": {
      "image/png": "[encoded data removed]",
      "text/plain": [
       "<Figure size 360x360 with 1 Axes>"
      ]
     },
     "metadata": {},
     "output_type": "display_data"
    },
    {
     "data": {
      "image/png": "[encoded data removed]",
      "text/plain": [
       "<Figure size 360x360 with 1 Axes>"
      ]
     },
     "metadata": {},
     "output_type": "display_data"
    },
    {
     "data": {
      "image/png": "[encoded data removed]",
      "text/plain": [
       "<Figure size 360x360 with 1 Axes>"
      ]
     },
     "metadata": {},
     "output_type": "display_data"
    },
    {
     "data": {
      "image/png": "[encoded data removed]",
      "text/plain": [
       "<Figure size 360x360 with 1 Axes>"
      ]
     },
     "metadata": {},
     "output_type": "display_data"
    }
   ],
   "source": [
    "# GRÁFICOS DE LAS VARIABLES CONTINUAS\n",
    "\n",
    "# Distribución de delitos a lo largo de los años\n",
    "seaborn.catplot(x=\"YEAR\",kind=\"count\", data=CRIMES)\n",
    "# Distribución de delitos a lo largo de los meses\n",
    "seaborn.catplot(x=\"MONTH\", kind=\"count\", data=CRIMES)\n",
    "# Distribución de delitos a lo largo de la semana\n",
    "seaborn.catplot(x=\"DAY_OF_WEEK\", kind=\"count\", data=CRIMES)\n",
    "# Distribución de delitos a lo largo del día\n",
    "seaborn.catplot(x=\"HOUR\", kind=\"count\", data=CRIMES)\n",
    "fig.tight_layout()"
   ]
  },
  {
   "cell_type": "code",
   "execution_count": 353,
   "metadata": {},
   "outputs": [
    {
     "data": {
      "text/plain": [
       "['Aggravated Assault',\n",
       " 'Aircraft',\n",
       " 'Arson',\n",
       " 'Assembly or Gathering Violations',\n",
       " 'Auto Theft',\n",
       " 'Auto Theft Recovery',\n",
       " 'Ballistics',\n",
       " 'Biological Threat',\n",
       " 'Bomb Hoax',\n",
       " 'Burglary - No Property Taken',\n",
       " 'Commercial Burglary',\n",
       " 'Confidence Games',\n",
       " 'Counterfeiting',\n",
       " 'Criminal Harassment',\n",
       " 'Disorderly Conduct',\n",
       " 'Drug Violation',\n",
       " 'Embezzlement',\n",
       " 'Evading Fare',\n",
       " 'Explosives',\n",
       " 'Fire Related Reports',\n",
       " 'Firearm Discovery',\n",
       " 'Firearm Violations',\n",
       " 'Fraud',\n",
       " 'Gambling',\n",
       " 'HOME INVASION',\n",
       " 'HUMAN TRAFFICKING',\n",
       " 'HUMAN TRAFFICKING - INVOLUNTARY SERVITUDE',\n",
       " 'Harassment',\n",
       " 'Harbor Related Incidents',\n",
       " 'Homicide',\n",
       " 'INVESTIGATE PERSON',\n",
       " 'Investigate Person',\n",
       " 'Investigate Property',\n",
       " 'Landlord/Tenant Disputes',\n",
       " 'Larceny',\n",
       " 'Larceny From Motor Vehicle',\n",
       " 'License Plate Related Incidents',\n",
       " 'License Violation',\n",
       " 'Liquor Violation',\n",
       " 'Manslaughter',\n",
       " 'Medical Assistance',\n",
       " 'Missing Person Located',\n",
       " 'Missing Person Reported',\n",
       " 'Motor Vehicle Accident Response',\n",
       " 'Offenses Against Child / Family',\n",
       " 'Operating Under the Influence',\n",
       " 'Other',\n",
       " 'Other Burglary',\n",
       " 'Phone Call Complaints',\n",
       " 'Police Service Incidents',\n",
       " 'Prisoner Related Incidents',\n",
       " 'Property Found',\n",
       " 'Property Lost',\n",
       " 'Property Related Damage',\n",
       " 'Prostitution',\n",
       " 'Recovered Stolen Property',\n",
       " 'Residential Burglary',\n",
       " 'Restraining Order Violations',\n",
       " 'Robbery',\n",
       " 'Search Warrants',\n",
       " 'Service',\n",
       " 'Simple Assault',\n",
       " 'Towed',\n",
       " 'Vandalism',\n",
       " 'Verbal Disputes',\n",
       " 'Violations',\n",
       " 'Warrant Arrests']"
      ]
     },
     "execution_count": 353,
     "metadata": {},
     "output_type": "execute_result"
    }
   ],
   "source": [
    "# Distintos tipos de delitos\n",
    "sorted(Counter(CRIMES.OFFENSE_CODE_GROUP).keys())"
   ]
  },
  {
   "cell_type": "code",
   "execution_count": 354,
   "metadata": {},
   "outputs": [
    {
     "data": {
      "text/plain": [
       "Motor Vehicle Accident Response    23583\n",
       "Larceny                            15709\n",
       "Medical Assistance                 14795\n",
       "Investigate Person                 12421\n",
       "Other                              10861\n",
       "Drug Violation                     10043\n",
       "Vandalism                           9900\n",
       "Simple Assault                      9636\n",
       "Verbal Disputes                     8535\n",
       "Investigate Property                7326\n",
       "Name: OFFENSE_CODE_GROUP, dtype: int64"
      ]
     },
     "execution_count": 354,
     "metadata": {},
     "output_type": "execute_result"
    }
   ],
   "source": [
    "# TOP 10 delitos más habituales\n",
    "CRIMES['OFFENSE_CODE_GROUP'].value_counts().nlargest(10)"
   ]
  },
  {
   "cell_type": "code",
   "execution_count": 355,
   "metadata": {},
   "outputs": [],
   "source": [
    "# Los 5 delitos más habituales son: Motor Vehicle Accident Response, Larceny, Medical Assistance, Investigate Person y \n",
    "# Drug Violation (sin contar Other)\n",
    "\n",
    "# Los delitos más graves son: Aggravated Assault,Aircraft, Biological Threat, Explosives, HUMAN TRAFFICKING, \n",
    "# HUMAN TRAFFICKING - INVOLUNTARY SERVITUDE, Homicide, Manslaughter y Offenses Against Child / Family"
   ]
  },
  {
   "cell_type": "code",
   "execution_count": 386,
   "metadata": {},
   "outputs": [],
   "source": [
    "# Creación de dos datasets alternativos, uno con los delitos más comunes y otro con los delitos más graves\n",
    "COMMON_CRIMES=CRIMES[CRIMES[\"OFFENSE_CODE_GROUP\"].isin([\"Motor Vehicle Accident Response\",\"Larceny\",\"Medical Assistance\",\"Investigate Person\",\n",
    "                                                          \"Drug Violation\"])]\n",
    "\n",
    "SERIOUS_CRIMES=CRIMES[CRIMES[\"OFFENSE_CODE_GROUP\"].isin([\"Aggravated Assault\",\"Aircraft\",\"Biological Threat\",\"Explosives\",\"HUMAN TRAFFICKING\",\n",
    "                                                         \"HUMAN TRAFFICKING - INVOLUNTARY SERVITUDE\",\"Homicide\",\"Manslaughter\",\"Offenses Against Child / Family\"])]"
   ]
  },
  {
   "cell_type": "code",
   "execution_count": 387,
   "metadata": {},
   "outputs": [
    {
     "data": {
      "image/png": "[encoded data removed]",
      "text/plain": [
       "<Figure size 360x360 with 1 Axes>"
      ]
     },
     "metadata": {},
     "output_type": "display_data"
    },
    {
     "data": {
      "image/png": "[encoded data removed]",
      "text/plain": [
       "<Figure size 360x360 with 1 Axes>"
      ]
     },
     "metadata": {},
     "output_type": "display_data"
    },
    {
     "data": {
      "image/png": "[encoded data removed]",
      "text/plain": [
       "<Figure size 360x360 with 1 Axes>"
      ]
     },
     "metadata": {},
     "output_type": "display_data"
    },
    {
     "data": {
      "image/png": "[encoded data removed]",
      "text/plain": [
       "<Figure size 360x360 with 1 Axes>"
      ]
     },
     "metadata": {},
     "output_type": "display_data"
    }
   ],
   "source": [
    "# GRÁFICOS DE LAS VARIABLES CONTINUAS PARA LOS DELITOS COMUNES\n",
    "\n",
    "# Distribución de delitos a lo largo de los años\n",
    "seaborn.catplot(x=\"YEAR\",kind=\"count\", data=COMMON_CRIMES)\n",
    "# Distribución de delitos a lo largo de los meses\n",
    "seaborn.catplot(x=\"MONTH\", kind=\"count\", data=COMMON_CRIMES)\n",
    "# Distribución de delitos a lo largo de la semana\n",
    "seaborn.catplot(x=\"DAY_OF_WEEK\", kind=\"count\", data=COMMON_CRIMES)\n",
    "# Distribución de delitos a lo largo del día\n",
    "seaborn.catplot(x=\"HOUR\", kind=\"count\", data=COMMON_CRIMES)\n",
    "fig.tight_layout()"
   ]
  },
  {
   "cell_type": "code",
   "execution_count": 388,
   "metadata": {},
   "outputs": [
    {
     "data": {
      "image/png": "[encoded data removed]",
      "text/plain": [
       "<Figure size 360x360 with 1 Axes>"
      ]
     },
     "metadata": {},
     "output_type": "display_data"
    },
    {
     "data": {
      "image/png": "[encoded data removed]",
      "text/plain": [
       "<Figure size 360x360 with 1 Axes>"
      ]
     },
     "metadata": {},
     "output_type": "display_data"
    },
    {
     "data": {
      "image/png": "[encoded data removed]",
      "text/plain": [
       "<Figure size 360x360 with 1 Axes>"
      ]
     },
     "metadata": {},
     "output_type": "display_data"
    },
    {
     "data": {
      "image/png": "[encoded data removed]",
      "text/plain": [
       "<Figure size 360x360 with 1 Axes>"
      ]
     },
     "metadata": {},
     "output_type": "display_data"
    }
   ],
   "source": [
    "# GRÁFICOS DE LAS VARIABLES CONTINUAS PARA LOS DELITOS GRAVES\n",
    "\n",
    "# Distribución de delitos a lo largo de los años\n",
    "seaborn.catplot(x=\"YEAR\",kind=\"count\", data=SERIOUS_CRIMES)\n",
    "# Distribución de delitos a lo largo de los meses\n",
    "seaborn.catplot(x=\"MONTH\", kind=\"count\", data=SERIOUS_CRIMES)\n",
    "# Distribución de delitos a lo largo de la semana\n",
    "seaborn.catplot(x=\"DAY_OF_WEEK\", kind=\"count\", data=SERIOUS_CRIMES)\n",
    "# Distribución de delitos a lo largo del día\n",
    "seaborn.catplot(x=\"HOUR\", kind=\"count\", data=SERIOUS_CRIMES)\n",
    "fig.tight_layout()"
   ]
  },
  {
   "cell_type": "code",
   "execution_count": 401,
   "metadata": {},
   "outputs": [
    {
     "data": {
      "text/html": [
       "<div>\n",
       "<style scoped>\n",
       "    .dataframe tbody tr th:only-of-type {\n",
       "        vertical-align: middle;\n",
       "    }\n",
       "\n",
       "    .dataframe tbody tr th {\n",
       "        vertical-align: top;\n",
       "    }\n",
       "\n",
       "    .dataframe thead th {\n",
       "        text-align: right;\n",
       "    }\n",
       "</style>\n",
       "<table border=\"1\" class=\"dataframe\">\n",
       "  <thead>\n",
       "    <tr style=\"text-align: right;\">\n",
       "      <th></th>\n",
       "      <th>OFFENSE_CODE_GROUP</th>\n",
       "      <th>OFFENSE_CODE</th>\n",
       "      <th>YEAR</th>\n",
       "      <th>MONTH</th>\n",
       "      <th>HOUR</th>\n",
       "    </tr>\n",
       "  </thead>\n",
       "  <tbody>\n",
       "    <tr>\n",
       "      <th>0</th>\n",
       "      <td>Aggravated Assault</td>\n",
       "      <td>416.665339</td>\n",
       "      <td>2016.504089</td>\n",
       "      <td>6.605158</td>\n",
       "      <td>13.018872</td>\n",
       "    </tr>\n",
       "    <tr>\n",
       "      <th>1</th>\n",
       "      <td>Aircraft</td>\n",
       "      <td>3122.000000</td>\n",
       "      <td>2016.846154</td>\n",
       "      <td>5.884615</td>\n",
       "      <td>14.269231</td>\n",
       "    </tr>\n",
       "    <tr>\n",
       "      <th>2</th>\n",
       "      <td>Biological Threat</td>\n",
       "      <td>2672.000000</td>\n",
       "      <td>2017.000000</td>\n",
       "      <td>10.500000</td>\n",
       "      <td>11.500000</td>\n",
       "    </tr>\n",
       "    <tr>\n",
       "      <th>3</th>\n",
       "      <td>Explosives</td>\n",
       "      <td>2906.571429</td>\n",
       "      <td>2016.500000</td>\n",
       "      <td>6.357143</td>\n",
       "      <td>9.357143</td>\n",
       "    </tr>\n",
       "    <tr>\n",
       "      <th>4</th>\n",
       "      <td>HUMAN TRAFFICKING</td>\n",
       "      <td>1610.000000</td>\n",
       "      <td>2016.714286</td>\n",
       "      <td>6.714286</td>\n",
       "      <td>12.285714</td>\n",
       "    </tr>\n",
       "    <tr>\n",
       "      <th>5</th>\n",
       "      <td>HUMAN TRAFFICKING - INVOLUNTARY SERVITUDE</td>\n",
       "      <td>1620.000000</td>\n",
       "      <td>2016.500000</td>\n",
       "      <td>6.000000</td>\n",
       "      <td>13.000000</td>\n",
       "    </tr>\n",
       "    <tr>\n",
       "      <th>6</th>\n",
       "      <td>Homicide</td>\n",
       "      <td>111.000000</td>\n",
       "      <td>2016.534653</td>\n",
       "      <td>7.287129</td>\n",
       "      <td>13.029703</td>\n",
       "    </tr>\n",
       "    <tr>\n",
       "      <th>7</th>\n",
       "      <td>Manslaughter</td>\n",
       "      <td>120.375000</td>\n",
       "      <td>2016.375000</td>\n",
       "      <td>4.750000</td>\n",
       "      <td>9.000000</td>\n",
       "    </tr>\n",
       "    <tr>\n",
       "      <th>8</th>\n",
       "      <td>Offenses Against Child / Family</td>\n",
       "      <td>2063.584615</td>\n",
       "      <td>2016.495385</td>\n",
       "      <td>6.403077</td>\n",
       "      <td>13.123077</td>\n",
       "    </tr>\n",
       "  </tbody>\n",
       "</table>\n",
       "</div>"
      ],
      "text/plain": [
       "                          OFFENSE_CODE_GROUP  OFFENSE_CODE         YEAR  \\\n",
       "0                         Aggravated Assault    416.665339  2016.504089   \n",
       "1                                   Aircraft   3122.000000  2016.846154   \n",
       "2                          Biological Threat   2672.000000  2017.000000   \n",
       "3                                 Explosives   2906.571429  2016.500000   \n",
       "4                          HUMAN TRAFFICKING   1610.000000  2016.714286   \n",
       "5  HUMAN TRAFFICKING - INVOLUNTARY SERVITUDE   1620.000000  2016.500000   \n",
       "6                                   Homicide    111.000000  2016.534653   \n",
       "7                               Manslaughter    120.375000  2016.375000   \n",
       "8            Offenses Against Child / Family   2063.584615  2016.495385   \n",
       "\n",
       "       MONTH       HOUR  \n",
       "0   6.605158  13.018872  \n",
       "1   5.884615  14.269231  \n",
       "2  10.500000  11.500000  \n",
       "3   6.357143   9.357143  \n",
       "4   6.714286  12.285714  \n",
       "5   6.000000  13.000000  \n",
       "6   7.287129  13.029703  \n",
       "7   4.750000   9.000000  \n",
       "8   6.403077  13.123077  "
      ]
     },
     "execution_count": 401,
     "metadata": {},
     "output_type": "execute_result"
    }
   ],
   "source": [
    "SERIOUS_CRIMES.groupby(['OFFENSE_CODE_GROUP'],as_index=False).mean()"
   ]
  },
  {
   "cell_type": "code",
   "execution_count": null,
   "metadata": {},
   "outputs": [],
   "source": [
    "# Análisis temporal (buscar estacionalidad)"
   ]
  },
  {
   "cell_type": "code",
   "execution_count": 363,
   "metadata": {},
   "outputs": [],
   "source": [
    "# Representación de delitos en coordenadas (buscar zonas calientes)"
   ]
  }
 ],
 "metadata": {
  "instance_type": "ml.t3.medium",
  "kernelspec": {
   "display_name": "Python 3 (Data Science)",
   "language": "python",
   "name": "python3__SAGEMAKER_INTERNAL__arn:aws:sagemaker:eu-west-1:470317259841:image/datascience-1.0"
  },
  "language_info": {
   "codemirror_mode": {
    "name": "ipython",
    "version": 3
   },
   "file_extension": ".py",
   "mimetype": "text/x-python",
   "name": "python",
   "nbconvert_exporter": "python",
   "pygments_lexer": "ipython3",
   "version": "3.7.10"
  }
 },
 "nbformat": 4,
 "nbformat_minor": 4
}
